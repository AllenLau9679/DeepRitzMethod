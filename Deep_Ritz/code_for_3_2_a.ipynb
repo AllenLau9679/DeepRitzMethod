{
 "cells": [
  {
   "cell_type": "code",
   "execution_count": 1,
   "metadata": {
    "collapsed": true
   },
   "outputs": [],
   "source": [
    "import torch \n",
    "import torch.nn.functional as F\n",
    "import numpy as np\n",
    "\n",
    "torch.set_default_tensor_type('torch.FloatTensor')\n",
    "\n",
    "m=10\n",
    "learning_rate=1e-4  \n",
    "iterations=2000  #default 10000\n",
    "print_every_iter=100\n",
    "beta=100 #coefficient for the regularization term in the loss expression, is set to be 1000 in section 3.1\n",
    "n1=1000 #number of points in (0,1)^m\n",
    "n2=100  #number of points on the border of (0,1)^m\n",
    "n3=100  #number of points used for evaluating the error\n",
    "\n",
    "class DeepRitzNet(torch.nn.Module):\n",
    "    def __init__(self, m):\n",
    "        super(DeepRitzNet, self).__init__()\n",
    "        self.linear1=torch.nn.Linear(m,m)\n",
    "        self.linear2=torch.nn.Linear(m,m)\n",
    "        self.linear3=torch.nn.Linear(m,m)\n",
    "        self.linear4=torch.nn.Linear(m,m)\n",
    "        self.linear5=torch.nn.Linear(m,m)\n",
    "        self.linear6=torch.nn.Linear(m,m)\n",
    "        \n",
    "        self.linear7=torch.nn.Linear(m,1)\n",
    "    \n",
    "    def forward(self, x):\n",
    "        y=(F.relu(self.linear1(x)))**3\n",
    "        y=(F.relu(self.linear2(x)))**3\n",
    "        y+=x\n",
    "        x=y\n",
    "        y=(F.relu(self.linear3(x)))**3\n",
    "        y=(F.relu(self.linear4(x)))**3\n",
    "        y+=x\n",
    "        x=y\n",
    "        y=(F.relu(self.linear5(x)))**3\n",
    "        y=(F.relu(self.linear6(x)))**3\n",
    "        y+=x\n",
    "        y=(F.relu(self.linear7(x)))**3\n",
    "        return y\n",
    "\n",
    "#U_groundtruth has 10 arguements\n",
    "def U_groundtruth(*args):\n",
    "    re = 0\n",
    "    for i in range(5):\n",
    "        re += args[2*i]*args[2*i+1]\n",
    "    return re\n",
    "\n",
    "#sample a (m,) numpy ndarray on the border of (0,1)^m\n",
    "def border_sample():\n",
    "    x=np.random.random_sample((m,))\n",
    "    #randomly choose an integer between 0 and m-1(including 0 and m-1)\n",
    "    dim=np.random.random_integers(0,m-1)   \n",
    "    if np.random.rand()<0.5:\n",
    "        x[dim]=0\n",
    "    else:\n",
    "        x[dim]=1\n",
    "        \n",
    "    return x"
   ]
  },
  {
   "cell_type": "code",
   "execution_count": 2,
   "metadata": {
    "scrolled": true
   },
   "outputs": [
    {
     "name": "stderr",
     "output_type": "stream",
     "text": [
      "D:\\ProgramData\\Anaconda3\\lib\\site-packages\\ipykernel_launcher.py:54: DeprecationWarning: This function is deprecated. Please call randint(0, 9 + 1) instead\n"
     ]
    },
    {
     "name": "stdout",
     "output_type": "stream",
     "text": [
      "Error at the 100 th iteration: 0.48372966051101685\n",
      "Error at the 200 th iteration: 0.7646926641464233\n",
      "Error at the 300 th iteration: 0.41061484813690186\n",
      "Error at the 400 th iteration: 0.45315539836883545\n",
      "Error at the 500 th iteration: 0.4691288471221924\n",
      "Error at the 600 th iteration: 0.42802953720092773\n",
      "Error at the 700 th iteration: 0.37355726957321167\n",
      "Error at the 800 th iteration: 0.47152042388916016\n",
      "Error at the 900 th iteration: 0.5735272169113159\n",
      "Error at the 1000 th iteration: 0.45780226588249207\n"
     ]
    },
    {
     "ename": "KeyboardInterrupt",
     "evalue": "",
     "output_type": "error",
     "traceback": [
      "\u001b[1;31m---------------------------------------------------------------------------\u001b[0m",
      "\u001b[1;31mKeyboardInterrupt\u001b[0m                         Traceback (most recent call last)",
      "\u001b[1;32m<ipython-input-2-c09d57c52bbe>\u001b[0m in \u001b[0;36m<module>\u001b[1;34m()\u001b[0m\n\u001b[0;32m     22\u001b[0m         \u001b[1;31m#It seems to have something to do with the usage of relu()**3 in DeepRitzNet\u001b[0m\u001b[1;33m\u001b[0m\u001b[1;33m\u001b[0m\u001b[0m\n\u001b[0;32m     23\u001b[0m         \u001b[0my\u001b[0m\u001b[1;33m=\u001b[0m\u001b[0mmodel\u001b[0m\u001b[1;33m(\u001b[0m\u001b[0mx_in_omega\u001b[0m\u001b[1;33m[\u001b[0m\u001b[0mt\u001b[0m\u001b[1;33m]\u001b[0m\u001b[1;33m.\u001b[0m\u001b[0mfloat\u001b[0m\u001b[1;33m(\u001b[0m\u001b[1;33m)\u001b[0m\u001b[1;33m)\u001b[0m\u001b[1;33m\u001b[0m\u001b[0m\n\u001b[1;32m---> 24\u001b[1;33m         \u001b[0my\u001b[0m\u001b[1;33m.\u001b[0m\u001b[0mbackward\u001b[0m\u001b[1;33m(\u001b[0m\u001b[1;33m)\u001b[0m\u001b[1;33m\u001b[0m\u001b[0m\n\u001b[0m\u001b[0;32m     25\u001b[0m         \u001b[0mloss\u001b[0m\u001b[1;33m+=\u001b[0m\u001b[1;36m0.5\u001b[0m\u001b[1;33m*\u001b[0m\u001b[0mtorch\u001b[0m\u001b[1;33m.\u001b[0m\u001b[0msum\u001b[0m\u001b[1;33m(\u001b[0m\u001b[1;33m(\u001b[0m\u001b[0mx_in_omega\u001b[0m\u001b[1;33m[\u001b[0m\u001b[0mt\u001b[0m\u001b[1;33m]\u001b[0m\u001b[1;33m.\u001b[0m\u001b[0mgrad\u001b[0m\u001b[1;33m.\u001b[0m\u001b[0mfloat\u001b[0m\u001b[1;33m(\u001b[0m\u001b[1;33m)\u001b[0m\u001b[1;33m)\u001b[0m\u001b[1;33m**\u001b[0m\u001b[1;36m2\u001b[0m\u001b[1;33m)\u001b[0m\u001b[1;33m\u001b[0m\u001b[0m\n\u001b[0;32m     26\u001b[0m     \u001b[0mloss\u001b[0m\u001b[1;33m/=\u001b[0m\u001b[0mn1\u001b[0m\u001b[1;33m\u001b[0m\u001b[0m\n",
      "\u001b[1;32mD:\\ProgramData\\Anaconda3\\lib\\site-packages\\torch\\tensor.py\u001b[0m in \u001b[0;36mbackward\u001b[1;34m(self, gradient, retain_graph, create_graph)\u001b[0m\n\u001b[0;32m     91\u001b[0m                 \u001b[0mproducts\u001b[0m\u001b[1;33m.\u001b[0m \u001b[0mDefaults\u001b[0m \u001b[0mto\u001b[0m\u001b[0;31m \u001b[0m\u001b[0;31m`\u001b[0m\u001b[0;31m`\u001b[0m\u001b[1;32mFalse\u001b[0m\u001b[0;31m`\u001b[0m\u001b[0;31m`\u001b[0m\u001b[1;33m.\u001b[0m\u001b[1;33m\u001b[0m\u001b[0m\n\u001b[0;32m     92\u001b[0m         \"\"\"\n\u001b[1;32m---> 93\u001b[1;33m         \u001b[0mtorch\u001b[0m\u001b[1;33m.\u001b[0m\u001b[0mautograd\u001b[0m\u001b[1;33m.\u001b[0m\u001b[0mbackward\u001b[0m\u001b[1;33m(\u001b[0m\u001b[0mself\u001b[0m\u001b[1;33m,\u001b[0m \u001b[0mgradient\u001b[0m\u001b[1;33m,\u001b[0m \u001b[0mretain_graph\u001b[0m\u001b[1;33m,\u001b[0m \u001b[0mcreate_graph\u001b[0m\u001b[1;33m)\u001b[0m\u001b[1;33m\u001b[0m\u001b[0m\n\u001b[0m\u001b[0;32m     94\u001b[0m \u001b[1;33m\u001b[0m\u001b[0m\n\u001b[0;32m     95\u001b[0m     \u001b[1;32mdef\u001b[0m \u001b[0mregister_hook\u001b[0m\u001b[1;33m(\u001b[0m\u001b[0mself\u001b[0m\u001b[1;33m,\u001b[0m \u001b[0mhook\u001b[0m\u001b[1;33m)\u001b[0m\u001b[1;33m:\u001b[0m\u001b[1;33m\u001b[0m\u001b[0m\n",
      "\u001b[1;32mD:\\ProgramData\\Anaconda3\\lib\\site-packages\\torch\\autograd\\__init__.py\u001b[0m in \u001b[0;36mbackward\u001b[1;34m(tensors, grad_tensors, retain_graph, create_graph, grad_variables)\u001b[0m\n\u001b[0;32m     87\u001b[0m     Variable._execution_engine.run_backward(\n\u001b[0;32m     88\u001b[0m         \u001b[0mtensors\u001b[0m\u001b[1;33m,\u001b[0m \u001b[0mgrad_tensors\u001b[0m\u001b[1;33m,\u001b[0m \u001b[0mretain_graph\u001b[0m\u001b[1;33m,\u001b[0m \u001b[0mcreate_graph\u001b[0m\u001b[1;33m,\u001b[0m\u001b[1;33m\u001b[0m\u001b[0m\n\u001b[1;32m---> 89\u001b[1;33m         allow_unreachable=True)  # allow_unreachable flag\n\u001b[0m\u001b[0;32m     90\u001b[0m \u001b[1;33m\u001b[0m\u001b[0m\n\u001b[0;32m     91\u001b[0m \u001b[1;33m\u001b[0m\u001b[0m\n",
      "\u001b[1;31mKeyboardInterrupt\u001b[0m: "
     ]
    }
   ],
   "source": [
    "model = DeepRitzNet(m)\n",
    "optimizer = torch.optim.SGD(model.parameters(), lr=learning_rate)\n",
    "error_iter=[] #record the error every print_every_iter=100 times\n",
    "\n",
    "for i in range(iterations):\n",
    "    #sample n1=1000 points in (0,1)^m\n",
    "    #x_in_omega is a list consisting n1=1000 tensors , each tensor has the shape of (m,)\n",
    "    x_in_omega=[] \n",
    "    for t in range(n1):\n",
    "        x_in_omega.append(torch.tensor(np.random.random_sample((m,)),requires_grad=True))\n",
    "        \n",
    "    #sample n2=100 points on the border of (0,1)^m\n",
    "    #x_on_omega is a list consisting n2=100 tensors , each tensor has the shape of (m,)\n",
    "    x_on_omega=[]\n",
    "    for t in range(n2):\n",
    "        x_on_omega.append(torch.tensor(border_sample(),requires_grad=True))\n",
    "    \n",
    "    #calculate the loss \n",
    "    loss=torch.zeros(1)\n",
    "    for t in range(n1):\n",
    "        #if I miss out the \".float()\" there will be an error and I don't know why\n",
    "        #It seems to have something to do with the usage of relu()**3 in DeepRitzNet\n",
    "        y=model(x_in_omega[t].float())  \n",
    "        y.backward()\n",
    "        loss+=0.5*torch.sum((x_in_omega[t].grad.float())**2)\n",
    "    loss/=n1\n",
    "    \n",
    "    regularization=torch.zeros(1)\n",
    "    for t in range(n2):\n",
    "        y=model(x_on_omega[t].float())\n",
    "        #there was a mistake here in the first version\n",
    "        regularization+=(y-U_groundtruth(*(x_on_omega[t].float())))**2   \n",
    "    regularization*=beta/n2\n",
    "    \n",
    "    loss+=regularization\n",
    "    \n",
    "    #and step the optimizer\n",
    "    optimizer.zero_grad()\n",
    "    loss.backward()\n",
    "    optimizer.step()\n",
    "    \n",
    "    #print the error\n",
    "    if((i+1)%print_every_iter==0):\n",
    "        error=0\n",
    "        for t in range(n3):\n",
    "            x_test=torch.tensor(np.random.random_sample((m,)))\n",
    "            error_instant=abs((model(x_test.float())-U_groundtruth(*(x_test.float()))).item())\n",
    "            if error_instant>error:\n",
    "                error = error_instant\n",
    "        error_iter.append(error)\n",
    "        print(\"Error at the\",i+1,\"th iteration:\",error)\n"
   ]
  },
  {
   "cell_type": "code",
   "execution_count": 18,
   "metadata": {},
   "outputs": [
    {
     "data": {
      "text/plain": [
       "'\\nbeta=1000 error fluctuates between 2 and 3\\nbeta=200 error 2~3\\nbeta=100 fluctuate 0.4~0.6 but if we change n3 from 100 to 1000, the error become 2~3\\nbeta=10 fluctuate 0.5~0.7\\n'"
      ]
     },
     "execution_count": 18,
     "metadata": {},
     "output_type": "execute_result"
    }
   ],
   "source": [
    "'''\n",
    "beta=1000 error fluctuates between 2 and 3\n",
    "beta=200 error 2~3\n",
    "beta=100 fluctuate 0.4~0.6 but if we change n3 from 100 to 1000, the error become 2~3\n",
    "beta=10 fluctuate 0.5~0.7\n",
    "'''"
   ]
  }
 ],
 "metadata": {
  "kernelspec": {
   "display_name": "Python 3",
   "language": "python",
   "name": "python3"
  },
  "language_info": {
   "codemirror_mode": {
    "name": "ipython",
    "version": 3
   },
   "file_extension": ".py",
   "mimetype": "text/x-python",
   "name": "python",
   "nbconvert_exporter": "python",
   "pygments_lexer": "ipython3",
   "version": "3.6.3"
  }
 },
 "nbformat": 4,
 "nbformat_minor": 2
}
