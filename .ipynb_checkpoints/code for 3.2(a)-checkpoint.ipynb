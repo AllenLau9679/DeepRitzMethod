{
 "cells": [
  {
   "cell_type": "code",
   "execution_count": 3,
   "metadata": {
    "collapsed": true
   },
   "outputs": [],
   "source": [
    "import torch \n",
    "import torch.nn.functional as F\n",
    "import numpy as np\n",
    "\n",
    "torch.set_default_tensor_type('torch.FloatTensor')\n",
    "\n",
    "m=10\n",
    "learning_rate=1e-4\n",
    "iterations=10000\n",
    "print_every_iter=100\n",
    "beta=1000 #coefficient for the regularization term in the loss expression\n",
    "n1=1000 #number of points in (0,1)^m\n",
    "n2=100  #number of points on the border of (0,1)^m\n",
    "n3=100  #number of points used for evaluating the error\n",
    "\n",
    "class DeepRitzNet(torch.nn.Module):\n",
    "    def __init__(self, m):\n",
    "        super(DeepRitzNet, self).__init__()\n",
    "        self.linear1=torch.nn.Linear(m,m)\n",
    "        self.linear2=torch.nn.Linear(m,m)\n",
    "        self.linear3=torch.nn.Linear(m,m)\n",
    "        self.linear4=torch.nn.Linear(m,m)\n",
    "        self.linear5=torch.nn.Linear(m,m)\n",
    "        self.linear6=torch.nn.Linear(m,m)\n",
    "        \n",
    "        self.linear7=torch.nn.Linear(m,1)\n",
    "    \n",
    "    def forward(self, x):\n",
    "        y=(F.relu(self.linear1(x)))**3\n",
    "        y=(F.relu(self.linear2(x)))**3\n",
    "        y+=x\n",
    "        x=y\n",
    "        y=(F.relu(self.linear3(x)))**3\n",
    "        y=(F.relu(self.linear4(x)))**3\n",
    "        y+=x\n",
    "        x=y\n",
    "        y=(F.relu(self.linear5(x)))**3\n",
    "        y=(F.relu(self.linear6(x)))**3\n",
    "        y+=x\n",
    "        y=(F.relu(self.linear7(x)))**3\n",
    "        return y\n",
    "\n",
    "#U_groundtruth has 10 arguements\n",
    "def U_groundtruth(*args):\n",
    "    re = 0\n",
    "    for i in range(5):\n",
    "        re += args[2*i]*args[2*i+1]\n",
    "    return re\n",
    "\n",
    "#sample a (m,) numpy ndarray on the border of (0,1)^m\n",
    "def border_sample():\n",
    "    x=np.random.random_sample((m,))\n",
    "    #randomly choose an integer between 0 and m-1(including 0 and m-1)\n",
    "    dim=np.random.random_integers(0,m-1)   \n",
    "    if np.random.rand()<0.5:\n",
    "        x[dim]=0\n",
    "    else:\n",
    "        x[dim]=1\n",
    "        \n",
    "    return x"
   ]
  },
  {
   "cell_type": "code",
   "execution_count": 4,
   "metadata": {
    "scrolled": false
   },
   "outputs": [
    {
     "name": "stderr",
     "output_type": "stream",
     "text": [
      "D:\\ProgramData\\Anaconda3\\lib\\site-packages\\ipykernel_launcher.py:54: DeprecationWarning: This function is deprecated. Please call randint(0, 9 + 1) instead\n"
     ]
    },
    {
     "name": "stdout",
     "output_type": "stream",
     "text": [
      "Error at the 100 th iteration: 2.555072784423828\n",
      "Error at the 200 th iteration: 2.506585121154785\n",
      "Error at the 300 th iteration: 2.4807801246643066\n",
      "Error at the 400 th iteration: 2.2456953525543213\n",
      "Error at the 500 th iteration: 2.538088321685791\n",
      "Error at the 600 th iteration: 2.336458444595337\n",
      "Error at the 700 th iteration: 2.8706722259521484\n",
      "Error at the 800 th iteration: 2.4315004348754883\n",
      "Error at the 900 th iteration: 2.9004335403442383\n",
      "Error at the 1000 th iteration: 2.4697561264038086\n",
      "Error at the 1100 th iteration: 2.5612258911132812\n",
      "Error at the 1200 th iteration: 2.8590900897979736\n",
      "Error at the 1300 th iteration: 2.2475733757019043\n",
      "Error at the 1400 th iteration: 2.788788080215454\n",
      "Error at the 1500 th iteration: 2.559713840484619\n",
      "Error at the 1600 th iteration: 2.5591330528259277\n",
      "Error at the 1700 th iteration: 2.691124200820923\n",
      "Error at the 1800 th iteration: 2.5793068408966064\n",
      "Error at the 1900 th iteration: 2.494357109069824\n",
      "Error at the 2000 th iteration: 2.632944107055664\n",
      "Error at the 2100 th iteration: 2.67818021774292\n",
      "Error at the 2200 th iteration: 2.997481346130371\n",
      "Error at the 2300 th iteration: 2.322760581970215\n",
      "Error at the 2400 th iteration: 2.6873133182525635\n",
      "Error at the 2500 th iteration: 2.891995906829834\n",
      "Error at the 2600 th iteration: 2.857465982437134\n",
      "Error at the 2700 th iteration: 2.9894793033599854\n",
      "Error at the 2800 th iteration: 2.7859628200531006\n",
      "Error at the 2900 th iteration: 2.652571201324463\n",
      "Error at the 3000 th iteration: 2.5688929557800293\n",
      "Error at the 3100 th iteration: 3.379397392272949\n",
      "Error at the 3200 th iteration: 2.5692644119262695\n",
      "Error at the 3300 th iteration: 2.4704701900482178\n",
      "Error at the 3400 th iteration: 2.9847023487091064\n",
      "Error at the 3500 th iteration: 2.826449394226074\n",
      "Error at the 3600 th iteration: 2.8348727226257324\n"
     ]
    },
    {
     "ename": "KeyboardInterrupt",
     "evalue": "",
     "output_type": "error",
     "traceback": [
      "\u001b[1;31m---------------------------------------------------------------------------\u001b[0m",
      "\u001b[1;31mKeyboardInterrupt\u001b[0m                         Traceback (most recent call last)",
      "\u001b[1;32m<ipython-input-4-01e566cadf27>\u001b[0m in \u001b[0;36m<module>\u001b[1;34m()\u001b[0m\n\u001b[0;32m     22\u001b[0m         \u001b[0my\u001b[0m\u001b[1;33m=\u001b[0m\u001b[0mmodel\u001b[0m\u001b[1;33m(\u001b[0m\u001b[0mx_in_omega\u001b[0m\u001b[1;33m[\u001b[0m\u001b[0mt\u001b[0m\u001b[1;33m]\u001b[0m\u001b[1;33m.\u001b[0m\u001b[0mfloat\u001b[0m\u001b[1;33m(\u001b[0m\u001b[1;33m)\u001b[0m\u001b[1;33m)\u001b[0m\u001b[1;33m\u001b[0m\u001b[0m\n\u001b[0;32m     23\u001b[0m         \u001b[0my\u001b[0m\u001b[1;33m.\u001b[0m\u001b[0mbackward\u001b[0m\u001b[1;33m(\u001b[0m\u001b[1;33m)\u001b[0m\u001b[1;33m\u001b[0m\u001b[0m\n\u001b[1;32m---> 24\u001b[1;33m         \u001b[0mloss\u001b[0m\u001b[1;33m+=\u001b[0m\u001b[1;36m0.5\u001b[0m\u001b[1;33m*\u001b[0m\u001b[0mtorch\u001b[0m\u001b[1;33m.\u001b[0m\u001b[0msum\u001b[0m\u001b[1;33m(\u001b[0m\u001b[1;33m(\u001b[0m\u001b[0mx_in_omega\u001b[0m\u001b[1;33m[\u001b[0m\u001b[0mt\u001b[0m\u001b[1;33m]\u001b[0m\u001b[1;33m.\u001b[0m\u001b[0mgrad\u001b[0m\u001b[1;33m.\u001b[0m\u001b[0mfloat\u001b[0m\u001b[1;33m(\u001b[0m\u001b[1;33m)\u001b[0m\u001b[1;33m)\u001b[0m\u001b[1;33m**\u001b[0m\u001b[1;36m2\u001b[0m\u001b[1;33m)\u001b[0m\u001b[1;33m\u001b[0m\u001b[0m\n\u001b[0m\u001b[0;32m     25\u001b[0m     \u001b[0mloss\u001b[0m\u001b[1;33m/=\u001b[0m\u001b[0mn1\u001b[0m\u001b[1;33m\u001b[0m\u001b[0m\n\u001b[0;32m     26\u001b[0m \u001b[1;33m\u001b[0m\u001b[0m\n",
      "\u001b[1;31mKeyboardInterrupt\u001b[0m: "
     ]
    }
   ],
   "source": [
    "model = DeepRitzNet(m)\n",
    "optimizer = torch.optim.SGD(model.parameters(), lr=learning_rate)\n",
    "\n",
    "for i in range(iterations):\n",
    "    #sample n1=1000 points in (0,1)^m\n",
    "    #x_in_omega is a list consisting n1=1000 tensors , each tensor has the shape of (m,)\n",
    "    x_in_omega=[] \n",
    "    for t in range(n1):\n",
    "        x_in_omega.append(torch.tensor(np.random.random_sample((m,)),requires_grad=True))\n",
    "        \n",
    "    #sample n2=100 points on the border of (0,1)^m\n",
    "    #x_on_omega is a list consisting n2=100 tensors , each tensor has the shape of (m,)\n",
    "    x_on_omega=[]\n",
    "    for t in range(n2):\n",
    "        x_on_omega.append(torch.tensor(border_sample(),requires_grad=True))\n",
    "    \n",
    "    #calculate the loss \n",
    "    loss=torch.zeros(1)\n",
    "    for t in range(n1):\n",
    "        #if I miss out the \".float()\" there will be an error and I don't know why\n",
    "        #It seems to have something to do with the usage of relu()**3 in DeepRitzNet\n",
    "        y=model(x_in_omega[t].float())  \n",
    "        y.backward()\n",
    "        loss+=0.5*torch.sum((x_in_omega[t].grad.float())**2)\n",
    "    loss/=n1\n",
    "    \n",
    "    regularization=torch.zeros(1)\n",
    "    for t in range(n2):\n",
    "        y=model(x_on_omega[t].float())\n",
    "        #there was a mistake here in the first version\n",
    "        regularization+=(y-U_groundtruth(*(x_on_omega[t].float())))**2   \n",
    "    regularization*=beta/n2\n",
    "    \n",
    "    loss+=regularization\n",
    "    \n",
    "    #and step the optimizer\n",
    "    optimizer.zero_grad()\n",
    "    loss.backward()\n",
    "    optimizer.step()\n",
    "    \n",
    "    #print the error\n",
    "    if((i+1)%print_every_iter==0):\n",
    "        error=0\n",
    "        for t in range(n3):\n",
    "            x_test=torch.tensor(np.random.random_sample((m,)))\n",
    "            error_instant=abs((model(x_test.float())-U_groundtruth(*(x_test.float()))).item())\n",
    "            if error_instant>error:\n",
    "                error = error_instant\n",
    "        print(\"Error at the\",i+1,\"th iteration:\",error)\n"
   ]
  },
  {
   "cell_type": "code",
   "execution_count": null,
   "metadata": {
    "collapsed": true
   },
   "outputs": [],
   "source": []
  },
  {
   "cell_type": "code",
   "execution_count": 92,
   "metadata": {},
   "outputs": [
    {
     "data": {
      "text/plain": [
       "[1]"
      ]
     },
     "execution_count": 92,
     "metadata": {},
     "output_type": "execute_result"
    }
   ],
   "source": []
  }
 ],
 "metadata": {
  "kernelspec": {
   "display_name": "Python 3",
   "language": "python",
   "name": "python3"
  },
  "language_info": {
   "codemirror_mode": {
    "name": "ipython",
    "version": 3
   },
   "file_extension": ".py",
   "mimetype": "text/x-python",
   "name": "python",
   "nbconvert_exporter": "python",
   "pygments_lexer": "ipython3",
   "version": "3.6.3"
  }
 },
 "nbformat": 4,
 "nbformat_minor": 2
}
