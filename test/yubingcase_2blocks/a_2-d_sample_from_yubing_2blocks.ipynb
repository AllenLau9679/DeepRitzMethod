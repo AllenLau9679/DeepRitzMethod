{
 "cells": [
  {
   "cell_type": "markdown",
   "metadata": {},
   "source": [
    "## Test on a simple case\n",
    "Consider the following Poisson Equation\n",
    "$$\n",
    "\\begin{cases}\n",
    "    \\Delta u = 0\\qquad &u\\in\\Omega\\\\\n",
    "    u = xy\\qquad &u\\in\\partial\\Omega.\n",
    "\\end{cases}$$\n",
    "Here $\\Omega = \\{(x, y)|\\ 0< x, y< 1\\}$\n",
    "\n",
    "The exact solution to this problem is $$u = xy.$$"
   ]
  },
  {
   "cell_type": "code",
   "execution_count": 1,
   "metadata": {
    "collapsed": true
   },
   "outputs": [],
   "source": [
    "% matplotlib inline\n",
    "import torch \n",
    "import torch.nn.functional as F\n",
    "#learning rate decay\n",
    "from torch.optim.lr_scheduler import StepLR, MultiStepLR\n",
    "import numpy as np\n",
    "from math import *\n",
    "import matplotlib.pyplot as plt\n",
    "import matplotlib.cm as cm\n",
    "\n",
    "torch.set_default_tensor_type('torch.FloatTensor')\n",
    "\n",
    "class DeepRitzNet(torch.nn.Module):\n",
    "    def __init__(self, m):\n",
    "        super(DeepRitzNet, self).__init__()\n",
    "        self.linear1 = torch.nn.Linear(m,m)\n",
    "        self.linear2 = torch.nn.Linear(m,m)\n",
    "        self.linear3 = torch.nn.Linear(m,m)\n",
    "        self.linear4 = torch.nn.Linear(m,m)\n",
    "        self.linear5 = torch.nn.Linear(m,m)\n",
    "        self.linear6 = torch.nn.Linear(m,m)\n",
    "        \n",
    "        self.linear7 = torch.nn.Linear(m,1)\n",
    "        \n",
    "        torch.nn.init.constant_(self.linear1.bias, 0.)\n",
    "        torch.nn.init.constant_(self.linear2.bias, 0.)\n",
    "        torch.nn.init.constant_(self.linear3.bias, 0.)\n",
    "        torch.nn.init.constant_(self.linear4.bias, 0.)\n",
    "        torch.nn.init.constant_(self.linear5.bias, 0.)\n",
    "        torch.nn.init.constant_(self.linear6.bias, 0.)\n",
    "        torch.nn.init.constant_(self.linear7.bias, 0.)\n",
    "        \n",
    "        torch.nn.init.normal_(self.linear1.weight, mean=0, std=0.1)\n",
    "        torch.nn.init.normal_(self.linear2.weight, mean=0, std=0.1)\n",
    "        torch.nn.init.normal_(self.linear3.weight, mean=0, std=0.1)\n",
    "        torch.nn.init.normal_(self.linear4.weight, mean=0, std=0.1)\n",
    "        torch.nn.init.normal_(self.linear5.weight, mean=0, std=0.1)\n",
    "        torch.nn.init.normal_(self.linear6.weight, mean=0, std=0.1)\n",
    "        torch.nn.init.normal_(self.linear7.weight, mean=0, std=0.1)\n",
    "        \n",
    "        \n",
    "        '''\n",
    "        torch.nn.init.xavier_uniform_(self.linear1.weight, gain=torch.nn.init.calculate_gain('relu'))\n",
    "        torch.nn.init.xavier_uniform_(self.linear2.weight, gain=torch.nn.init.calculate_gain('relu'))\n",
    "        torch.nn.init.xavier_uniform_(self.linear3.weight, gain=torch.nn.init.calculate_gain('relu'))\n",
    "        torch.nn.init.xavier_uniform_(self.linear4.weight, gain=torch.nn.init.calculate_gain('relu'))\n",
    "        torch.nn.init.xavier_uniform_(self.linear5.weight, gain=torch.nn.init.calculate_gain('relu'))\n",
    "        torch.nn.init.xavier_uniform_(self.linear6.weight, gain=torch.nn.init.calculate_gain('relu'))\n",
    "        torch.nn.init.xavier_uniform_(self.linear7.weight, gain=torch.nn.init.calculate_gain('relu'))\n",
    "        '''\n",
    "    def forward(self, x):\n",
    "        y = x\n",
    "        y = y + F.relu(self.linear2(F.relu(self.linear1(y))))\n",
    "        y = y + F.relu(self.linear4(F.relu(self.linear3(y))))\n",
    "        #y = y + F.relu(self.linear6(F.relu(self.linear5(y))))\n",
    "        output = F.relu(self.linear7(y))\n",
    "        return output"
   ]
  },
  {
   "cell_type": "code",
   "execution_count": 2,
   "metadata": {
    "collapsed": true
   },
   "outputs": [],
   "source": [
    "def cal_loss(mod):\n",
    "    points = np.arange(0, 1.1, 0.1)\n",
    "    xs, ys = np.meshgrid(points, points)\n",
    "    xs = torch.tensor(xs)\n",
    "    ys = torch.tensor(ys)\n",
    "    xl, yl = xs.size()\n",
    "    z = np.zeros((xl, yl))\n",
    "    mmm = 0\n",
    "    t = 0\n",
    "    for i in range(xl):\n",
    "        for j in range(yl):      \n",
    "            re = np.zeros(m)\n",
    "            re[0] = xs[i, j]\n",
    "            re[1] = ys[i, j]\n",
    "            re = torch.tensor(re)        \n",
    "            z[i, j] = mod(re.float()).item() - U_groundtruth(re)\n",
    "            mmm += abs(z[i, j])\n",
    "            t += 1\n",
    "    return mmm / t"
   ]
  },
  {
   "cell_type": "code",
   "execution_count": 3,
   "metadata": {
    "collapsed": true
   },
   "outputs": [],
   "source": [
    "#相对误差\n",
    "#余冰的例子里面是\n",
    "#print(np.linalg.norm(np.reshape(u_solve[:,0]-pu,[-1]),ord=2)/np.linalg.norm(np.reshape(pu,[-1]),ord=2))\n",
    "def relative_err(mod):\n",
    "    points = np.arange(0, 1, 0.1)\n",
    "    xs, ys = np.meshgrid(points, points)\n",
    "    xs = torch.tensor(xs)\n",
    "    ys = torch.tensor(ys)\n",
    "    xl, yl = xs.size()\n",
    "    z = np.zeros((xl, yl))\n",
    "    w = np.zeros((xl, yl))\n",
    "    t = 0\n",
    "    for i in range(xl):\n",
    "        for j in range(yl):      \n",
    "            re = np.zeros(m)\n",
    "            re[0] = xs[i, j]\n",
    "            re[1] = ys[i, j]\n",
    "            re = torch.tensor(re)\n",
    "            z[i, j] = mod(re.float()).item() - U_groundtruth(re)\n",
    "            w[i, j] = U_groundtruth(re)\n",
    "            t += 1\n",
    "    z = z ** 2\n",
    "    w = w ** 2\n",
    "    return np.sum(z) / np.sum(w)"
   ]
  },
  {
   "cell_type": "code",
   "execution_count": 4,
   "metadata": {
    "collapsed": true
   },
   "outputs": [],
   "source": [
    "#U_groundtruth = x * y\n",
    "#take in a (m,) tensor (x, y, ...)\n",
    "def U_groundtruth(t):\n",
    "    return (t[0] * t[1]).item()"
   ]
  },
  {
   "cell_type": "code",
   "execution_count": 5,
   "metadata": {
    "collapsed": true
   },
   "outputs": [],
   "source": [
    "def validate(mod):\n",
    "    draw_graph(mod)\n",
    "    print(cal_loss(mod))"
   ]
  },
  {
   "cell_type": "code",
   "execution_count": 14,
   "metadata": {
    "collapsed": true
   },
   "outputs": [],
   "source": [
    "def draw_graph(mod):\n",
    "    points = np.arange(0, 1, 0.01)\n",
    "    xs, ys = np.meshgrid(points, points)\n",
    "    xs = torch.tensor(xs)\n",
    "    ys = torch.tensor(ys)\n",
    "    xl, yl = xs.size()\n",
    "    z = np.zeros((xl, yl))\n",
    "    for i in range(xl):\n",
    "        for j in range(yl):      \n",
    "            re = np.zeros(m)\n",
    "            re[0] = xs[i, j]\n",
    "            re[1] = ys[i, j]\n",
    "            re = torch.tensor(re)        \n",
    "            z[i, j] = mod(re.float()).item() - U_groundtruth(re)\n",
    "    \n",
    "    plt.imshow(z, cmap=cm.hot)\n",
    "    plt.colorbar()\n",
    "    \n",
    "    my_x_ticks = np.arange(0, 1, 0.2)\n",
    "    my_y_ticks = np.arange(0, 1, 0.2)\n",
    "    ax = plt.gca()\n",
    "    ax.set_xticks(np.linspace(0,99,5))  \n",
    "    ax.set_xticklabels(('0', '0.25', '0.5', '0.75', '1'))  \n",
    "    ax.set_yticks(np.linspace(0,99,5))  \n",
    "    ax.set_yticklabels( ('1', '0.75', '0.5', '0.25', '0'))  \n",
    "    \n",
    "    #plt.savefig(\"../Adaptive/loss_1.eps\")\n",
    "    \n",
    "    plt.savefig(\"loss_yubing_2blocks.eps\")\n",
    "    plt.show()"
   ]
  },
  {
   "cell_type": "code",
   "execution_count": 23,
   "metadata": {
    "scrolled": true
   },
   "outputs": [
    {
     "data": {
      "image/png": "[encoded data removed]",
      "text/plain": [
       "<Figure size 432x288 with 2 Axes>"
      ]
     },
     "metadata": {},
     "output_type": "display_data"
    },
    {
     "name": "stdout",
     "output_type": "stream",
     "text": [
      "0.02921018591104461\n"
     ]
    }
   ],
   "source": [
    "validate(model)"
   ]
  },
  {
   "cell_type": "code",
   "execution_count": 22,
   "metadata": {},
   "outputs": [
    {
     "data": {
      "text/plain": [
       "0.01982772920459404"
      ]
     },
     "execution_count": 22,
     "metadata": {},
     "output_type": "execute_result"
    }
   ],
   "source": [
    "relative_err(model)"
   ]
  },
  {
   "cell_type": "code",
   "execution_count": 36,
   "metadata": {
    "collapsed": true
   },
   "outputs": [],
   "source": [
    "#only save the parameters\n",
    "PATH = 'test_parameters.pkl'\n",
    "torch.save(model.state_dict(), PATH)"
   ]
  },
  {
   "cell_type": "code",
   "execution_count": 21,
   "metadata": {
    "collapsed": true
   },
   "outputs": [],
   "source": [
    "m = 10\n",
    "PATH = 'test_parameters.pkl'\n",
    "#从文件读取the_model\n",
    "model = DeepRitzNet(m)\n",
    "model.load_state_dict(torch.load(PATH))"
   ]
  },
  {
   "cell_type": "code",
   "execution_count": 33,
   "metadata": {
    "collapsed": true
   },
   "outputs": [],
   "source": [
    "model = DeepRitzNet(m)"
   ]
  },
  {
   "cell_type": "code",
   "execution_count": 20,
   "metadata": {
    "scrolled": true
   },
   "outputs": [
    {
     "name": "stdout",
     "output_type": "stream",
     "text": [
      "4  epoch, loss:  0.31445056\n",
      "4  epoch, regularization loss:  0.4933607\n",
      "4  loss to real solution:  0.029225307326178916\n",
      "9  epoch, loss:  0.31482548\n",
      "9  epoch, regularization loss:  0.5913272\n",
      "9  loss to real solution:  0.029239332459189683\n",
      "14  epoch, loss:  0.31485692\n",
      "14  epoch, regularization loss:  0.540304\n",
      "14  loss to real solution:  0.029248513975911897\n",
      "19  epoch, loss:  0.31508508\n",
      "19  epoch, regularization loss:  0.38401857\n",
      "19  loss to real solution:  0.02926148956225924\n",
      "24  epoch, loss:  0.31519145\n",
      "24  epoch, regularization loss:  0.53852135\n",
      "24  loss to real solution:  0.02927427943826708\n",
      "29  epoch, loss:  0.31534538\n",
      "29  epoch, regularization loss:  0.4520204\n",
      "29  loss to real solution:  0.02928693902147704\n",
      "34  epoch, loss:  0.31479385\n",
      "34  epoch, regularization loss:  0.4924247\n",
      "34  loss to real solution:  0.029303434545343583\n",
      "39  epoch, loss:  0.31470266\n",
      "39  epoch, regularization loss:  0.44264522\n",
      "39  loss to real solution:  0.029317331848558326\n",
      "44  epoch, loss:  0.31479737\n",
      "44  epoch, regularization loss:  0.4869716\n",
      "44  loss to real solution:  0.029329142250305373\n"
     ]
    },
    {
     "ename": "KeyboardInterrupt",
     "evalue": "",
     "output_type": "error",
     "traceback": [
      "\u001b[1;31m---------------------------------------------------------------------------\u001b[0m",
      "\u001b[1;31mKeyboardInterrupt\u001b[0m                         Traceback (most recent call last)",
      "\u001b[1;32m<ipython-input-20-39ed12467a98>\u001b[0m in \u001b[0;36m<module>\u001b[1;34m()\u001b[0m\n\u001b[0;32m      1\u001b[0m \u001b[1;31m#训练the_model\u001b[0m\u001b[1;33m\u001b[0m\u001b[1;33m\u001b[0m\u001b[0m\n\u001b[0;32m      2\u001b[0m train(model, opt='Adam', iterations=50000, milestones=[10000,20000,30000,40000], gamma=0.5, beta=600, \n\u001b[1;32m----> 3\u001b[1;33m       beta_increase=1.01, alpha=0, alpha_increase=1, initial_lr=0.00001, print_every_iter=5)\n\u001b[0m",
      "\u001b[1;32m<ipython-input-9-c061a7ca904a>\u001b[0m in \u001b[0;36mtrain\u001b[1;34m(mod, opt, initial_lr, n2, milestones, gamma, alpha, alpha_increase, iterations, beta, beta_increase, print_every_iter)\u001b[0m\n\u001b[0;32m     39\u001b[0m                 \u001b[0mx_input_grad_1\u001b[0m \u001b[1;33m=\u001b[0m \u001b[1;33m(\u001b[0m\u001b[0mmod\u001b[0m\u001b[1;33m(\u001b[0m\u001b[0mx_input_1\u001b[0m\u001b[1;33m)\u001b[0m \u001b[1;33m-\u001b[0m \u001b[0my\u001b[0m\u001b[1;33m)\u001b[0m \u001b[1;33m/\u001b[0m \u001b[1;36m0.0001\u001b[0m\u001b[1;33m\u001b[0m\u001b[0m\n\u001b[0;32m     40\u001b[0m                 \u001b[0mx_input_grad_2\u001b[0m \u001b[1;33m=\u001b[0m \u001b[1;33m(\u001b[0m\u001b[0mmod\u001b[0m\u001b[1;33m(\u001b[0m\u001b[0mx_input_2\u001b[0m\u001b[1;33m)\u001b[0m \u001b[1;33m-\u001b[0m \u001b[0my\u001b[0m\u001b[1;33m)\u001b[0m \u001b[1;33m/\u001b[0m \u001b[1;36m0.0001\u001b[0m\u001b[1;33m\u001b[0m\u001b[0m\n\u001b[1;32m---> 41\u001b[1;33m                 \u001b[0mx_input_2_grad_x\u001b[0m \u001b[1;33m=\u001b[0m \u001b[1;33m(\u001b[0m\u001b[0mmod\u001b[0m\u001b[1;33m(\u001b[0m\u001b[0mx_input_1\u001b[0m\u001b[1;33m)\u001b[0m \u001b[1;33m+\u001b[0m \u001b[0mmod\u001b[0m\u001b[1;33m(\u001b[0m\u001b[0mx_input_3\u001b[0m\u001b[1;33m)\u001b[0m \u001b[1;33m-\u001b[0m \u001b[1;36m2\u001b[0m \u001b[1;33m*\u001b[0m \u001b[0my\u001b[0m\u001b[1;33m)\u001b[0m \u001b[1;33m/\u001b[0m \u001b[1;36m0.0001\u001b[0m\u001b[1;33m**\u001b[0m\u001b[1;36m2\u001b[0m\u001b[1;33m\u001b[0m\u001b[0m\n\u001b[0m\u001b[0;32m     42\u001b[0m                 \u001b[0mx_input_2_grad_y\u001b[0m \u001b[1;33m=\u001b[0m \u001b[1;33m(\u001b[0m\u001b[0mmod\u001b[0m\u001b[1;33m(\u001b[0m\u001b[0mx_input_2\u001b[0m\u001b[1;33m)\u001b[0m \u001b[1;33m+\u001b[0m \u001b[0mmod\u001b[0m\u001b[1;33m(\u001b[0m\u001b[0mx_input_4\u001b[0m\u001b[1;33m)\u001b[0m \u001b[1;33m-\u001b[0m \u001b[1;36m2\u001b[0m \u001b[1;33m*\u001b[0m \u001b[0my\u001b[0m\u001b[1;33m)\u001b[0m \u001b[1;33m/\u001b[0m \u001b[1;36m0.0001\u001b[0m\u001b[1;33m**\u001b[0m\u001b[1;36m2\u001b[0m\u001b[1;33m\u001b[0m\u001b[0m\n\u001b[0;32m     43\u001b[0m \u001b[1;33m\u001b[0m\u001b[0m\n",
      "\u001b[1;31mKeyboardInterrupt\u001b[0m: "
     ]
    }
   ],
   "source": [
    "#训练the_model\n",
    "train(model, opt='Adam', iterations=50000, milestones=[10000,20000,30000,40000], gamma=0.5, beta=600, \n",
    "      beta_increase=1.01, alpha=0, alpha_increase=1, initial_lr=0.00001, print_every_iter=5)"
   ]
  },
  {
   "cell_type": "code",
   "execution_count": 13,
   "metadata": {
    "scrolled": false
   },
   "outputs": [
    {
     "name": "stdout",
     "output_type": "stream",
     "text": [
      "None\n"
     ]
    }
   ],
   "source": [
    "print((model.state_dict())['linear1.weight'].grad)"
   ]
  },
  {
   "cell_type": "code",
   "execution_count": 8,
   "metadata": {
    "collapsed": true
   },
   "outputs": [],
   "source": [
    "m = 10\n",
    "learning_rate = 0.01\n",
    "iterations = 400  #default 10000\n",
    "print_every_iter = 100\n",
    "beta = 500 #coefficient for the regularization term in the loss expression, is set to be 1000 in section 3.1\n",
    "#n1 = 1000 #number of points in (0,1)^m\n",
    "n2 = 100  #number of points on the border of (0,1)^m\n",
    "n3 = 100  #number of points used for evaluating the error\n",
    "gamma = 10"
   ]
  },
  {
   "cell_type": "code",
   "execution_count": 9,
   "metadata": {
    "collapsed": true,
    "scrolled": true
   },
   "outputs": [],
   "source": [
    "# Calculate time for grid method\n",
    "def train(mod, opt, initial_lr=learning_rate, n2=n2, milestones=[400], gamma=0.5, alpha=1, alpha_increase=1.01, \n",
    "          iterations=iterations, beta=1, beta_increase=1.01, print_every_iter=print_every_iter):\n",
    "    if opt == 'Adam':\n",
    "        optimizer = torch.optim.Adam(mod.parameters(), lr=initial_lr)\n",
    "    elif opt == 'SGD':\n",
    "        optimizer = torch.optim.SGD(mod.parameters(), lr=initial_lr)\n",
    "    scheduler = MultiStepLR(optimizer, milestones=milestones, gamma=gamma)\n",
    "\n",
    "    mm = 1\n",
    "    points = np.arange(0, 1, 0.1)\n",
    "    xs, ys = np.meshgrid(points, points)\n",
    "    xs = torch.tensor(xs)\n",
    "    ys = torch.tensor(ys)\n",
    "    xl, yl = xs.size()\n",
    "\n",
    "    #start = time.time()\n",
    "    for k in range(iterations):\n",
    "        n1 = 0\n",
    "        loss = torch.zeros(1)\n",
    "        for i in range(xl):\n",
    "            for j in range(yl):        \n",
    "                x_input = np.zeros(m)\n",
    "                x_input[0] = xs[i, j]\n",
    "                x_input[1] = ys[i, j]\n",
    "                \n",
    "                n1 += 1\n",
    "                x_input = torch.tensor(x_input).float()\n",
    "                y = mod(x_input)\n",
    "\n",
    "                x1 = torch.zeros(m)\n",
    "                x2 = torch.zeros(m)\n",
    "                x1[0] = 0.0001\n",
    "                x2[1] = 0.0001\n",
    "                x_input_1 = x_input.float() + x1\n",
    "                x_input_2 = x_input.float() + x2\n",
    "                x_input_3 = x_input.float() - x1\n",
    "                x_input_4 = x_input.float() - x2\n",
    "                x_input_grad_1 = (mod(x_input_1) - y) / 0.0001\n",
    "                x_input_grad_2 = (mod(x_input_2) - y) / 0.0001\n",
    "                x_input_2_grad_x = (mod(x_input_1) + mod(x_input_3) - 2 * y) / 0.0001**2\n",
    "                x_input_2_grad_y = (mod(x_input_2) + mod(x_input_4) - 2 * y) / 0.0001**2\n",
    "\n",
    "                loss += 0.5 * ((x_input_grad_1) ** 2 + (x_input_grad_2) ** 2)  \\\n",
    "                        + alpha * (x_input_2_grad_x + x_input_2_grad_y) ** 2\n",
    "                #loss += 0.5 * ((x_input.grad.float()[0]) ** 2 + (x_input.grad.float()[1]) ** 2) + y\n",
    "                #loss += alpha * (x_input_2_grad_x + x_input_2_grad_y) ** 2\n",
    "        loss /= n1\n",
    "\n",
    "        regularization = torch.zeros(1)\n",
    "        for t in range(n2):\n",
    "            x_input = np.zeros(m)\n",
    "            x_input[0] = np.random.rand()\n",
    "            x_input[1] = np.random.rand()\n",
    "            x_rand = np.random.rand()\n",
    "            if x_rand < 0.25:\n",
    "                x_input[0] = 0\n",
    "            elif x_rand > 0.25 and x_rand < 0.5:\n",
    "                x_input[0] = 1\n",
    "            elif x_rand > 0.5 and x_rand < 0.75:\n",
    "                x_input[1] = 0\n",
    "            elif x_rand > 0.75 :\n",
    "                x_input[1] = 1\n",
    "            x_input = torch.tensor(x_input).float()\n",
    "            y = mod(x_input)\n",
    "            regularization += (y - x_input[0] * x_input[1])**2 \n",
    "        regularization *= beta / n2\n",
    "        if alpha < 500:\n",
    "            alpha *= alpha_increase\n",
    "        if beta < 500:\n",
    "            beta *= beta_increase\n",
    "        \n",
    "        if((k + 1) % print_every_iter == 0):\n",
    "            #print loss\n",
    "            print(k, \" epoch, loss: \", loss.data[0].numpy())\n",
    "            print(k, \" epoch, regularization loss: \", regularization.data[0].numpy())\n",
    "            print(k, \" loss to real solution: \", cal_loss(mod))\n",
    "        if cal_loss(mod) < 0.0001:\n",
    "            break\n",
    "\n",
    "        loss += regularization\n",
    "\n",
    "        #and step the optimizer\n",
    "        optimizer.zero_grad()\n",
    "        loss.backward()\n",
    "\n",
    "        scheduler.step()\n",
    "        optimizer.step()\n",
    "    #stop = time.time()\n",
    "    #print(stop - start)"
   ]
  }
 ],
 "metadata": {
  "kernelspec": {
   "display_name": "Python 3",
   "language": "python",
   "name": "python3"
  },
  "language_info": {
   "codemirror_mode": {
    "name": "ipython",
    "version": 3
   },
   "file_extension": ".py",
   "mimetype": "text/x-python",
   "name": "python",
   "nbconvert_exporter": "python",
   "pygments_lexer": "ipython3",
   "version": "3.6.3"
  }
 },
 "nbformat": 4,
 "nbformat_minor": 2
}
