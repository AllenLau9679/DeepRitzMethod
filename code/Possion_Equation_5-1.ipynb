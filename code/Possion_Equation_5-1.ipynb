{
 "cells": [
  {
   "cell_type": "markdown",
   "metadata": {},
   "source": [
    "## Test on a simple case\n",
    "Consider the following Possion Equation\n",
    "$$\n",
    "\\begin{cases}\n",
    "    \\Delta u = 1\\qquad &u\\in\\Omega\\\\\n",
    "    u = 0\\qquad &u\\in\\partial\\Omega.\n",
    "\\end{cases}$$\n",
    "Here $\\Omega = \\{(x, y)|x^2+y^2 < 1\\}$\n",
    "\n",
    "The exact solution to this problem is $$u = \\frac{1}{4}(x^2+y^2-1).$$"
   ]
  },
  {
   "cell_type": "code",
   "execution_count": 1,
   "metadata": {
    "collapsed": true
   },
   "outputs": [],
   "source": [
    "% matplotlib inline\n",
    "import torch \n",
    "import torch.nn.functional as F\n",
    "from torch.optim.lr_scheduler import StepLR, MultiStepLR\n",
    "import numpy as np\n",
    "from math import *\n",
    "import matplotlib.pyplot as plt\n",
    "import matplotlib.cm as cm\n",
    "\n",
    "torch.set_default_tensor_type('torch.FloatTensor')\n",
    "\n",
    "class DeepRitzNet(torch.nn.Module):\n",
    "    def __init__(self, m):\n",
    "        super(DeepRitzNet, self).__init__()\n",
    "        self.linear1 = torch.nn.Linear(m,m)\n",
    "        self.linear2 = torch.nn.Linear(m,m)\n",
    "        self.linear3 = torch.nn.Linear(m,m)\n",
    "        self.linear4 = torch.nn.Linear(m,m)\n",
    "        self.linear5 = torch.nn.Linear(m,m)\n",
    "        self.linear6 = torch.nn.Linear(m,m)\n",
    "        \n",
    "        self.linear7 = torch.nn.Linear(m,1)\n",
    "      \n",
    "    def forward(self, x):\n",
    "        y = x\n",
    "        y = y + F.relu(self.linear2(F.relu(self.linear1(y))))\n",
    "        y = y + F.relu(self.linear4(F.relu(self.linear3(y))))\n",
    "        y = y + F.relu(self.linear6(F.relu(self.linear5(y))))\n",
    "        output = F.relu(self.linear7(y))\n",
    "        return output"
   ]
  },
  {
   "cell_type": "code",
   "execution_count": 2,
   "metadata": {
    "collapsed": true
   },
   "outputs": [],
   "source": [
    "def draw_graph(mod, m):\n",
    "    points = np.arange(-1, 1, 0.01)\n",
    "    xs, ys = np.meshgrid(points, points)\n",
    "    xs = torch.tensor(xs)\n",
    "    ys = torch.tensor(ys)\n",
    "    xl, yl = xs.size()\n",
    "    z = np.zeros((xl, yl))\n",
    "    for i in range(xl):\n",
    "        for j in range(yl):      \n",
    "            re = np.zeros(m)\n",
    "            re[0] = xs[i, j]\n",
    "            re[1] = ys[i, j]\n",
    "            re = torch.tensor(re)        \n",
    "            z[i, j] = mod(re.float()).item() + U_groundtruth(re)\n",
    "    \n",
    "    plt.imshow(z, cmap=cm.hot)\n",
    "    plt.colorbar()\n",
    "    my_x_ticks = np.arange(-1, 1, 0.2)\n",
    "    my_y_ticks = np.arange(-1, 1, 0.2)\n",
    "    ax = plt.gca()\n",
    "    ax.set_xticks(np.linspace(0,199,9))  \n",
    "    ax.set_xticklabels(('-1', '-0.75', '-0.5', '-0.25', '0', '0.25', '0.5', '0.75', '1'))  \n",
    "    ax.set_yticks(np.linspace(0,199,9))  \n",
    "    ax.set_yticklabels( ('1', '0.75', '0.5', '0.25', '0','-0.25','-0.5','-0.75', '-1'))  \n",
    "    \n",
    "    plt.show()"
   ]
  },
  {
   "cell_type": "code",
   "execution_count": 4,
   "metadata": {
    "collapsed": true
   },
   "outputs": [],
   "source": [
    "def cal_loss(mod):\n",
    "    points = np.arange(-1, 1, 0.1)\n",
    "    xs, ys = np.meshgrid(points, points)\n",
    "    xs = torch.tensor(xs)\n",
    "    ys = torch.tensor(ys)\n",
    "    xl, yl = xs.size()\n",
    "    z = np.zeros((xl, yl))\n",
    "    mmm = 0\n",
    "    t = 0\n",
    "    for i in range(xl):\n",
    "        for j in range(yl):      \n",
    "            re = np.zeros(m)\n",
    "            re[0] = xs[i, j]\n",
    "            re[1] = ys[i, j]\n",
    "            re = torch.tensor(re)        \n",
    "            z[i, j] = mod(re.float()).item() + U_groundtruth(re)\n",
    "          \n",
    "            if re[0] ** 2 + re[1] ** 2 < 1 : \n",
    "                mmm += abs(z[i, j])\n",
    "                t += 1\n",
    "    return mmm / t"
   ]
  },
  {
   "cell_type": "code",
   "execution_count": 5,
   "metadata": {
    "collapsed": true
   },
   "outputs": [],
   "source": [
    "def relative_err(mod):\n",
    "    points = np.arange(-1, 1, 0.1)\n",
    "    xs, ys = np.meshgrid(points, points)\n",
    "    xs = torch.tensor(xs)\n",
    "    ys = torch.tensor(ys)\n",
    "    xl, yl = xs.size()\n",
    "    z = np.zeros((xl, yl))\n",
    "    w = np.zeros((xl, yl))\n",
    "    t = 0\n",
    "    for i in range(xl):\n",
    "        for j in range(yl):      \n",
    "            re = np.zeros(m)\n",
    "            re[0] = xs[i, j]\n",
    "            re[1] = ys[i, j]\n",
    "            re = torch.tensor(re)\n",
    "            if re[0] ** 2 + re[1] ** 2 < 1 :\n",
    "                z[i, j] = mod(re.float()).item() + U_groundtruth(re)\n",
    "                w[i, j] = U_groundtruth(re)\n",
    "                t += 1\n",
    "    z = z ** 2\n",
    "    w = w ** 2\n",
    "    return np.sum(z) / np.sum(w)"
   ]
  },
  {
   "cell_type": "code",
   "execution_count": 6,
   "metadata": {
    "collapsed": true
   },
   "outputs": [],
   "source": [
    "def U_groundtruth(t):\n",
    "    re = (t[0] ** 2 + t[1] ** 2 - 1).item() / 4\n",
    "    return re"
   ]
  },
  {
   "cell_type": "code",
   "execution_count": 7,
   "metadata": {
    "collapsed": true
   },
   "outputs": [],
   "source": [
    "def validate(mod):\n",
    "    draw_graph(mod)\n",
    "    print(cal_loss(mod))"
   ]
  },
  {
   "cell_type": "code",
   "execution_count": 8,
   "metadata": {
    "collapsed": true
   },
   "outputs": [],
   "source": [
    "m = 10\n",
    "learning_rate = 0.01\n",
    "iterations = 400  \n",
    "print_every_iter = 100\n",
    "beta = 500 #coefficient for the regularization term in the loss expression\n",
    "n2 = 100  #number of points on the border of Omega\n",
    "gamma = 10"
   ]
  },
  {
   "cell_type": "code",
   "execution_count": null,
   "metadata": {
    "collapsed": true,
    "scrolled": true
   },
   "outputs": [],
   "source": [
    "\"\"\"\n",
    "Train with the grid\n",
    "从初始化模型开始训练\n",
    "\"\"\"\n",
    "model = DeepRitzNet(m)\n",
    "optimizer = torch.optim.Adam(model.parameters(), lr=learning_rate)\n",
    "in_error_iter = [] \n",
    "on_error_iter = [] \n",
    "mm = 1\n",
    "points = np.arange(-1, 1, 0.1)\n",
    "xs, ys = np.meshgrid(points, points)\n",
    "xs = torch.tensor(xs)\n",
    "ys = torch.tensor(ys)\n",
    "xl, yl = xs.size()\n",
    "                \n",
    "for k in range(iterations):\n",
    "    n1 = 0\n",
    "    loss = torch.zeros(1)\n",
    "    for i in range(xl):\n",
    "        for j in range(yl):        \n",
    "            x_input = np.zeros(m)\n",
    "            x_input[0] = xs[i, j]\n",
    "            x_input[1] = ys[i, j]\n",
    "            if x_input[0] ** 2 + x_input[1] ** 2 < 1:\n",
    "                n1 += 1\n",
    "                x_input = torch.tensor(x_input).float()\n",
    "                y = model(x_input)\n",
    "                \n",
    "                x1 = torch.zeros(m)\n",
    "                x2 = torch.zeros(m)\n",
    "                x1[0] = 0.0001\n",
    "                x2[1] = 0.0001\n",
    "                x_input_1 = x_input.float() + x1\n",
    "                x_input_2 = x_input.float() + x2\n",
    "                x_input_3 = x_input.float() - x1\n",
    "                x_input_4 = x_input.float() - x2\n",
    "                x_input_grad_1 = (model(x_input_1) - y) / 0.0001\n",
    "                x_input_grad_2 = (model(x_input_2) - y) / 0.0001\n",
    "                x_input_2_grad_x = (model(x_input_1) + model(x_input_3) - 2 * y) / 0.0001**2\n",
    "                x_input_2_grad_y = (model(x_input_2) + model(x_input_4) - 2 * y) / 0.0001**2\n",
    "\n",
    "                loss += 0.5 * ((x_input_grad_1) ** 2 + (x_input_grad_2) ** 2) - y \n",
    "    loss /= n1\n",
    "    \n",
    "    regularization = torch.zeros(1)\n",
    "    for t in range(n2):\n",
    "        theta = t / n2 * (2 * pi)\n",
    "        x_input = np.zeros(m)\n",
    "        x_input[0] = cos(theta)\n",
    "        x_input[1] = sin(theta)\n",
    "        x_input = torch.tensor(x_input).float()\n",
    "        y = model(x_input)\n",
    "        regularization += y**2 \n",
    "    regularization *= mm / n2\n",
    "    if gamma < 500:\n",
    "        gamma = gamma * 1.01\n",
    "    if mm < 500:\n",
    "        mm = mm * 1.01\n",
    "        \n",
    "    #print loss\n",
    "    print(k, \" epoch, loss: \", loss.data[0].numpy())\n",
    "    print(k, \" epoch, regularization loss: \", regularization.data[0].numpy())\n",
    "    print(k, \" loss to real solution: \", cal_loss(model))\n",
    "    if cal_loss(model) < 0.0001:\n",
    "        break\n",
    "    \n",
    "    loss += regularization\n",
    "    \n",
    "    optimizer.zero_grad()\n",
    "    loss.backward()\n",
    " \n",
    "    optimizer.step()\n",
    "    "
   ]
  },
  {
   "cell_type": "code",
   "execution_count": null,
   "metadata": {
    "collapsed": true
   },
   "outputs": [],
   "source": [
    "from time import *\n",
    "start = time()              \n",
    "for k in range(10):\n",
    "    n1 = 0\n",
    "    loss = torch.zeros(1)\n",
    "    for i in range(xl):\n",
    "        for j in range(yl):        \n",
    "            x_input = np.zeros(m)\n",
    "            x_input[0] = xs[i, j]\n",
    "            x_input[1] = ys[i, j]\n",
    "            if x_input[0] ** 2 + x_input[1] ** 2 < 1:\n",
    "                n1 += 1\n",
    "                x_input = torch.tensor(x_input).float()\n",
    "                y = model(x_input)\n",
    "                \n",
    "                x1 = torch.zeros(m)\n",
    "                x2 = torch.zeros(m)\n",
    "                x1[0] = 0.0001\n",
    "                x2[1] = 0.0001\n",
    "                x_input_1 = x_input.float() + x1\n",
    "                x_input_2 = x_input.float() + x2\n",
    "                x_input_3 = x_input.float() - x1\n",
    "                x_input_4 = x_input.float() - x2\n",
    "                x_input_grad_1 = (model(x_input_1) - y) / 0.0001\n",
    "                x_input_grad_2 = (model(x_input_2) - y) / 0.0001\n",
    "                x_input_2_grad_x = (model(x_input_1) + model(x_input_3) - 2 * y) / 0.0001**2\n",
    "                x_input_2_grad_y = (model(x_input_2) + model(x_input_4) - 2 * y) / 0.0001**2\n",
    "\n",
    "                loss += 0.5 * ((x_input_grad_1) ** 2 + (x_input_grad_2) ** 2) - y \n",
    "    loss /= n1\n",
    "    \n",
    "    regularization = torch.zeros(1)\n",
    "    for t in range(n2):\n",
    "        theta = t / n2 * (2 * pi)\n",
    "        x_input = np.zeros(m)\n",
    "        x_input[0] = cos(theta)\n",
    "        x_input[1] = sin(theta)\n",
    "        x_input = torch.tensor(x_input).float()\n",
    "        y = model(x_input)\n",
    "        regularization += y**2 \n",
    "    regularization *= mm / n2\n",
    "    if gamma < 500:\n",
    "        gamma = gamma * 1.01\n",
    "    if mm < 500:\n",
    "        mm = mm * 1.01\n",
    "        \n",
    "    print(k, \" epoch, loss: \", loss.data[0].numpy())\n",
    "    print(k, \" epoch, regularization loss: \", regularization.data[0].numpy())\n",
    "    print(k, \" loss to real solution: \", cal_loss(model))\n",
    "    if cal_loss(model) < 0.0001:\n",
    "        break\n",
    "    \n",
    "    loss += regularization\n",
    "    \n",
    "    optimizer.zero_grad()\n",
    "    loss.backward()\n",
    "    \n",
    "    scheduler.step()\n",
    "    optimizer.step()\n",
    "stop = time()\n",
    "print(stop - start)"
   ]
  },
  {
   "cell_type": "code",
   "execution_count": null,
   "metadata": {
    "collapsed": true,
    "scrolled": true
   },
   "outputs": [],
   "source": [
    "validate(the_model)"
   ]
  },
  {
   "cell_type": "code",
   "execution_count": null,
   "metadata": {
    "collapsed": true
   },
   "outputs": [],
   "source": [
    "relative_err(the_model)"
   ]
  },
  {
   "cell_type": "code",
   "execution_count": 45,
   "metadata": {
    "collapsed": true
   },
   "outputs": [],
   "source": [
    "PATH = 'test_parameters.pkl'\n",
    "torch.save(the_model.state_dict(), PATH)"
   ]
  },
  {
   "cell_type": "code",
   "execution_count": 59,
   "metadata": {
    "collapsed": true
   },
   "outputs": [],
   "source": [
    "m = 10\n",
    "PATH = 'test_parameters.pkl'\n",
    "the_model = DeepRitzNet(m)\n",
    "the_model.load_state_dict(torch.load(PATH))"
   ]
  },
  {
   "cell_type": "code",
   "execution_count": null,
   "metadata": {
    "collapsed": true,
    "scrolled": true
   },
   "outputs": [],
   "source": [
    "train(the_model, initial_lr=0.001*learning_rate)"
   ]
  },
  {
   "cell_type": "code",
   "execution_count": 62,
   "metadata": {
    "collapsed": true,
    "scrolled": true
   },
   "outputs": [],
   "source": [
    "def train(mod, initial_lr=learning_rate, milestones=[400], gamma=0.1, iterations=iterations, mm=1):\n",
    "    optimizer = torch.optim.Adam(mod.parameters(), lr=initial_lr)\n",
    "    scheduler = MultiStepLR(optimizer, milestones=milestones, gamma=gamma)\n",
    "\n",
    "    mm = 1\n",
    "    points = np.arange(-1, 1, 0.1)\n",
    "    xs, ys = np.meshgrid(points, points)\n",
    "    xs = torch.tensor(xs)\n",
    "    ys = torch.tensor(ys)\n",
    "    xl, yl = xs.size()\n",
    "\n",
    "    start = time.time()\n",
    "    for k in range(iterations):\n",
    "        n1 = 0\n",
    "        loss = torch.zeros(1)\n",
    "        for i in range(xl):\n",
    "            for j in range(yl):        \n",
    "                x_input = np.zeros(m)\n",
    "                x_input[0] = xs[i, j]\n",
    "                x_input[1] = ys[i, j]\n",
    "                if x_input[0] ** 2 + x_input[1] ** 2 < 1:\n",
    "                    n1 += 1\n",
    "                    x_input = torch.tensor(x_input).float()\n",
    "                    y = mod(x_input)\n",
    "\n",
    "                    x1 = torch.zeros(m)\n",
    "                    x2 = torch.zeros(m)\n",
    "                    x1[0] = 0.0001\n",
    "                    x2[1] = 0.0001\n",
    "                    x_input_1 = x_input.float() + x1\n",
    "                    x_input_2 = x_input.float() + x2\n",
    "                    x_input_3 = x_input.float() - x1\n",
    "                    x_input_4 = x_input.float() - x2\n",
    "                    x_input_grad_1 = (mod(x_input_1) - y) / 0.0001\n",
    "                    x_input_grad_2 = (mod(x_input_2) - y) / 0.0001\n",
    "                    x_input_2_grad_x = (mod(x_input_1) + the_model(x_input_3) - 2 * y) / 0.0001**2\n",
    "                    x_input_2_grad_y = (mod(x_input_2) + the_model(x_input_4) - 2 * y) / 0.0001**2\n",
    "\n",
    "                    loss += 0.5 * ((x_input_grad_1) ** 2 + (x_input_grad_2) ** 2) + y\n",
    "        loss /= n1\n",
    "\n",
    "        regularization = torch.zeros(1)\n",
    "        for t in range(n2):\n",
    "            theta = t / n2 * (2 * pi)\n",
    "            x_input = np.zeros(m)\n",
    "            x_input[0] = cos(theta)\n",
    "            x_input[1] = sin(theta)\n",
    "            x_input = torch.tensor(x_input).float()\n",
    "            y = mod(x_input)\n",
    "            regularization += y**2 \n",
    "        regularization *= mm / n2\n",
    "        if gamma < 500:\n",
    "            gamma = gamma * 1.01\n",
    "        if mm < 500:\n",
    "            mm = mm * 1.01\n",
    "\n",
    "        #print loss\n",
    "        print(k, \" epoch, loss: \", loss.data[0].numpy())\n",
    "        print(k, \" epoch, regularization loss: \", regularization.data[0].numpy())\n",
    "        print(k, \" loss to real solution: \", cal_loss(mod))\n",
    "        if cal_loss(the_model) < 0.0001:\n",
    "            break\n",
    "\n",
    "        loss += regularization\n",
    "\n",
    "        optimizer.zero_grad()\n",
    "        loss.backward()\n",
    "\n",
    "        scheduler.step()\n",
    "        optimizer.step()\n",
    "    stop = time.time()\n",
    "    print(stop - start)"
   ]
  }
 ],
 "metadata": {
  "kernelspec": {
   "display_name": "Python 3",
   "language": "python",
   "name": "python3"
  },
  "language_info": {
   "codemirror_mode": {
    "name": "ipython",
    "version": 3
   },
   "file_extension": ".py",
   "mimetype": "text/x-python",
   "name": "python",
   "nbconvert_exporter": "python",
   "pygments_lexer": "ipython3",
   "version": "3.6.3"
  }
 },
 "nbformat": 4,
 "nbformat_minor": 2
}
